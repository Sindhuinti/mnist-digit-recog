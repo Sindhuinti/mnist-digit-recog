{
 "cells": [
  {
   "cell_type": "code",
   "execution_count": 1,
   "id": "18012ccd",
   "metadata": {
    "_cell_guid": "b1076dfc-b9ad-4769-8c92-a6c4dae69d19",
    "_uuid": "8f2839f25d086af736a60e9eeb907d3b93b6e0e5",
    "execution": {
     "iopub.execute_input": "2022-07-22T04:12:50.353572Z",
     "iopub.status.busy": "2022-07-22T04:12:50.352877Z",
     "iopub.status.idle": "2022-07-22T04:12:50.372719Z",
     "shell.execute_reply": "2022-07-22T04:12:50.371044Z"
    },
    "papermill": {
     "duration": 0.03196,
     "end_time": "2022-07-22T04:12:50.375859",
     "exception": false,
     "start_time": "2022-07-22T04:12:50.343899",
     "status": "completed"
    },
    "tags": []
   },
   "outputs": [
    {
     "name": "stdout",
     "output_type": "stream",
     "text": [
      "/kaggle/input/digit-recognizer/sample_submission.csv\n",
      "/kaggle/input/digit-recognizer/train.csv\n",
      "/kaggle/input/digit-recognizer/test.csv\n"
     ]
    }
   ],
   "source": [
    "# This Python 3 environment comes with many helpful analytics libraries installed\n",
    "# It is defined by the kaggle/python Docker image: https://github.com/kaggle/docker-python\n",
    "# For example, here's several helpful packages to load\n",
    "\n",
    "import numpy as np # linear algebra\n",
    "import pandas as pd # data processing, CSV file I/O (e.g. pd.read_csv)\n",
    "\n",
    "# Input data files are available in the read-only \"../input/\" directory\n",
    "# For example, running this (by clicking run or pressing Shift+Enter) will list all files under the input directory\n",
    "\n",
    "import os\n",
    "for dirname, _, filenames in os.walk('/kaggle/input'):\n",
    "    for filename in filenames:\n",
    "        print(os.path.join(dirname, filename))\n",
    "\n",
    "# You can write up to 20GB to the current directory (/kaggle/working/) that gets preserved as output when you create a version using \"Save & Run All\" \n",
    "# You can also write temporary files to /kaggle/temp/, but they won't be saved outside of the current session"
   ]
  },
  {
   "cell_type": "code",
   "execution_count": 2,
   "id": "46f454a5",
   "metadata": {
    "execution": {
     "iopub.execute_input": "2022-07-22T04:12:50.389730Z",
     "iopub.status.busy": "2022-07-22T04:12:50.389385Z",
     "iopub.status.idle": "2022-07-22T04:12:56.035874Z",
     "shell.execute_reply": "2022-07-22T04:12:56.034613Z"
    },
    "papermill": {
     "duration": 5.656963,
     "end_time": "2022-07-22T04:12:56.039065",
     "exception": false,
     "start_time": "2022-07-22T04:12:50.382102",
     "status": "completed"
    },
    "tags": []
   },
   "outputs": [],
   "source": [
    "import tensorflow as tf\n",
    "from tensorflow import keras\n",
    "import matplotlib.pyplot as plt\n",
    "%matplotlib inline"
   ]
  },
  {
   "cell_type": "code",
   "execution_count": 3,
   "id": "1861e8b5",
   "metadata": {
    "execution": {
     "iopub.execute_input": "2022-07-22T04:12:56.053545Z",
     "iopub.status.busy": "2022-07-22T04:12:56.052824Z",
     "iopub.status.idle": "2022-07-22T04:13:02.618834Z",
     "shell.execute_reply": "2022-07-22T04:13:02.617351Z"
    },
    "papermill": {
     "duration": 6.577076,
     "end_time": "2022-07-22T04:13:02.622133",
     "exception": false,
     "start_time": "2022-07-22T04:12:56.045057",
     "status": "completed"
    },
    "tags": []
   },
   "outputs": [],
   "source": [
    "train_data = pd.read_csv('../input/digit-recognizer/train.csv')\n",
    "test_data = pd.read_csv('../input/digit-recognizer/test.csv')"
   ]
  },
  {
   "cell_type": "code",
   "execution_count": 4,
   "id": "4eb90219",
   "metadata": {
    "execution": {
     "iopub.execute_input": "2022-07-22T04:13:02.635883Z",
     "iopub.status.busy": "2022-07-22T04:13:02.635518Z",
     "iopub.status.idle": "2022-07-22T04:13:02.664923Z",
     "shell.execute_reply": "2022-07-22T04:13:02.663599Z"
    },
    "papermill": {
     "duration": 0.03969,
     "end_time": "2022-07-22T04:13:02.668164",
     "exception": false,
     "start_time": "2022-07-22T04:13:02.628474",
     "status": "completed"
    },
    "tags": []
   },
   "outputs": [
    {
     "data": {
      "text/html": [
       "<div>\n",
       "<style scoped>\n",
       "    .dataframe tbody tr th:only-of-type {\n",
       "        vertical-align: middle;\n",
       "    }\n",
       "\n",
       "    .dataframe tbody tr th {\n",
       "        vertical-align: top;\n",
       "    }\n",
       "\n",
       "    .dataframe thead th {\n",
       "        text-align: right;\n",
       "    }\n",
       "</style>\n",
       "<table border=\"1\" class=\"dataframe\">\n",
       "  <thead>\n",
       "    <tr style=\"text-align: right;\">\n",
       "      <th></th>\n",
       "      <th>pixel0</th>\n",
       "      <th>pixel1</th>\n",
       "      <th>pixel2</th>\n",
       "      <th>pixel3</th>\n",
       "      <th>pixel4</th>\n",
       "      <th>pixel5</th>\n",
       "      <th>pixel6</th>\n",
       "      <th>pixel7</th>\n",
       "      <th>pixel8</th>\n",
       "      <th>pixel9</th>\n",
       "      <th>...</th>\n",
       "      <th>pixel774</th>\n",
       "      <th>pixel775</th>\n",
       "      <th>pixel776</th>\n",
       "      <th>pixel777</th>\n",
       "      <th>pixel778</th>\n",
       "      <th>pixel779</th>\n",
       "      <th>pixel780</th>\n",
       "      <th>pixel781</th>\n",
       "      <th>pixel782</th>\n",
       "      <th>pixel783</th>\n",
       "    </tr>\n",
       "  </thead>\n",
       "  <tbody>\n",
       "    <tr>\n",
       "      <th>0</th>\n",
       "      <td>0</td>\n",
       "      <td>0</td>\n",
       "      <td>0</td>\n",
       "      <td>0</td>\n",
       "      <td>0</td>\n",
       "      <td>0</td>\n",
       "      <td>0</td>\n",
       "      <td>0</td>\n",
       "      <td>0</td>\n",
       "      <td>0</td>\n",
       "      <td>...</td>\n",
       "      <td>0</td>\n",
       "      <td>0</td>\n",
       "      <td>0</td>\n",
       "      <td>0</td>\n",
       "      <td>0</td>\n",
       "      <td>0</td>\n",
       "      <td>0</td>\n",
       "      <td>0</td>\n",
       "      <td>0</td>\n",
       "      <td>0</td>\n",
       "    </tr>\n",
       "    <tr>\n",
       "      <th>1</th>\n",
       "      <td>0</td>\n",
       "      <td>0</td>\n",
       "      <td>0</td>\n",
       "      <td>0</td>\n",
       "      <td>0</td>\n",
       "      <td>0</td>\n",
       "      <td>0</td>\n",
       "      <td>0</td>\n",
       "      <td>0</td>\n",
       "      <td>0</td>\n",
       "      <td>...</td>\n",
       "      <td>0</td>\n",
       "      <td>0</td>\n",
       "      <td>0</td>\n",
       "      <td>0</td>\n",
       "      <td>0</td>\n",
       "      <td>0</td>\n",
       "      <td>0</td>\n",
       "      <td>0</td>\n",
       "      <td>0</td>\n",
       "      <td>0</td>\n",
       "    </tr>\n",
       "    <tr>\n",
       "      <th>2</th>\n",
       "      <td>0</td>\n",
       "      <td>0</td>\n",
       "      <td>0</td>\n",
       "      <td>0</td>\n",
       "      <td>0</td>\n",
       "      <td>0</td>\n",
       "      <td>0</td>\n",
       "      <td>0</td>\n",
       "      <td>0</td>\n",
       "      <td>0</td>\n",
       "      <td>...</td>\n",
       "      <td>0</td>\n",
       "      <td>0</td>\n",
       "      <td>0</td>\n",
       "      <td>0</td>\n",
       "      <td>0</td>\n",
       "      <td>0</td>\n",
       "      <td>0</td>\n",
       "      <td>0</td>\n",
       "      <td>0</td>\n",
       "      <td>0</td>\n",
       "    </tr>\n",
       "    <tr>\n",
       "      <th>3</th>\n",
       "      <td>0</td>\n",
       "      <td>0</td>\n",
       "      <td>0</td>\n",
       "      <td>0</td>\n",
       "      <td>0</td>\n",
       "      <td>0</td>\n",
       "      <td>0</td>\n",
       "      <td>0</td>\n",
       "      <td>0</td>\n",
       "      <td>0</td>\n",
       "      <td>...</td>\n",
       "      <td>0</td>\n",
       "      <td>0</td>\n",
       "      <td>0</td>\n",
       "      <td>0</td>\n",
       "      <td>0</td>\n",
       "      <td>0</td>\n",
       "      <td>0</td>\n",
       "      <td>0</td>\n",
       "      <td>0</td>\n",
       "      <td>0</td>\n",
       "    </tr>\n",
       "    <tr>\n",
       "      <th>4</th>\n",
       "      <td>0</td>\n",
       "      <td>0</td>\n",
       "      <td>0</td>\n",
       "      <td>0</td>\n",
       "      <td>0</td>\n",
       "      <td>0</td>\n",
       "      <td>0</td>\n",
       "      <td>0</td>\n",
       "      <td>0</td>\n",
       "      <td>0</td>\n",
       "      <td>...</td>\n",
       "      <td>0</td>\n",
       "      <td>0</td>\n",
       "      <td>0</td>\n",
       "      <td>0</td>\n",
       "      <td>0</td>\n",
       "      <td>0</td>\n",
       "      <td>0</td>\n",
       "      <td>0</td>\n",
       "      <td>0</td>\n",
       "      <td>0</td>\n",
       "    </tr>\n",
       "  </tbody>\n",
       "</table>\n",
       "<p>5 rows × 784 columns</p>\n",
       "</div>"
      ],
      "text/plain": [
       "   pixel0  pixel1  pixel2  pixel3  pixel4  pixel5  pixel6  pixel7  pixel8  \\\n",
       "0       0       0       0       0       0       0       0       0       0   \n",
       "1       0       0       0       0       0       0       0       0       0   \n",
       "2       0       0       0       0       0       0       0       0       0   \n",
       "3       0       0       0       0       0       0       0       0       0   \n",
       "4       0       0       0       0       0       0       0       0       0   \n",
       "\n",
       "   pixel9  ...  pixel774  pixel775  pixel776  pixel777  pixel778  pixel779  \\\n",
       "0       0  ...         0         0         0         0         0         0   \n",
       "1       0  ...         0         0         0         0         0         0   \n",
       "2       0  ...         0         0         0         0         0         0   \n",
       "3       0  ...         0         0         0         0         0         0   \n",
       "4       0  ...         0         0         0         0         0         0   \n",
       "\n",
       "   pixel780  pixel781  pixel782  pixel783  \n",
       "0         0         0         0         0  \n",
       "1         0         0         0         0  \n",
       "2         0         0         0         0  \n",
       "3         0         0         0         0  \n",
       "4         0         0         0         0  \n",
       "\n",
       "[5 rows x 784 columns]"
      ]
     },
     "execution_count": 4,
     "metadata": {},
     "output_type": "execute_result"
    }
   ],
   "source": [
    "test_data.head()"
   ]
  },
  {
   "cell_type": "code",
   "execution_count": 5,
   "id": "1a5247a5",
   "metadata": {
    "execution": {
     "iopub.execute_input": "2022-07-22T04:13:02.681988Z",
     "iopub.status.busy": "2022-07-22T04:13:02.681653Z",
     "iopub.status.idle": "2022-07-22T04:13:02.800768Z",
     "shell.execute_reply": "2022-07-22T04:13:02.799251Z"
    },
    "papermill": {
     "duration": 0.129963,
     "end_time": "2022-07-22T04:13:02.804082",
     "exception": false,
     "start_time": "2022-07-22T04:13:02.674119",
     "status": "completed"
    },
    "tags": []
   },
   "outputs": [],
   "source": [
    "X_train = train_data.drop(['label'],axis=1)\n",
    "y_train = train_data['label']\n",
    "X_test = test_data"
   ]
  },
  {
   "cell_type": "code",
   "execution_count": 6,
   "id": "e03a27f1",
   "metadata": {
    "execution": {
     "iopub.execute_input": "2022-07-22T04:13:02.818574Z",
     "iopub.status.busy": "2022-07-22T04:13:02.818212Z",
     "iopub.status.idle": "2022-07-22T04:13:02.826758Z",
     "shell.execute_reply": "2022-07-22T04:13:02.825519Z"
    },
    "papermill": {
     "duration": 0.018696,
     "end_time": "2022-07-22T04:13:02.829577",
     "exception": false,
     "start_time": "2022-07-22T04:13:02.810881",
     "status": "completed"
    },
    "tags": []
   },
   "outputs": [
    {
     "data": {
      "text/plain": [
       "(42000, 784)"
      ]
     },
     "execution_count": 6,
     "metadata": {},
     "output_type": "execute_result"
    }
   ],
   "source": [
    "X_train.shape"
   ]
  },
  {
   "cell_type": "code",
   "execution_count": 7,
   "id": "f4b8aad1",
   "metadata": {
    "execution": {
     "iopub.execute_input": "2022-07-22T04:13:02.843362Z",
     "iopub.status.busy": "2022-07-22T04:13:02.843032Z",
     "iopub.status.idle": "2022-07-22T04:13:02.851499Z",
     "shell.execute_reply": "2022-07-22T04:13:02.850161Z"
    },
    "papermill": {
     "duration": 0.018647,
     "end_time": "2022-07-22T04:13:02.854350",
     "exception": false,
     "start_time": "2022-07-22T04:13:02.835703",
     "status": "completed"
    },
    "tags": []
   },
   "outputs": [
    {
     "data": {
      "text/plain": [
       "(28000, 784)"
      ]
     },
     "execution_count": 7,
     "metadata": {},
     "output_type": "execute_result"
    }
   ],
   "source": [
    "X_test.shape"
   ]
  },
  {
   "cell_type": "code",
   "execution_count": 8,
   "id": "9ef157df",
   "metadata": {
    "execution": {
     "iopub.execute_input": "2022-07-22T04:13:02.869182Z",
     "iopub.status.busy": "2022-07-22T04:13:02.868249Z",
     "iopub.status.idle": "2022-07-22T04:13:02.877274Z",
     "shell.execute_reply": "2022-07-22T04:13:02.875848Z"
    },
    "papermill": {
     "duration": 0.019756,
     "end_time": "2022-07-22T04:13:02.880534",
     "exception": false,
     "start_time": "2022-07-22T04:13:02.860778",
     "status": "completed"
    },
    "tags": []
   },
   "outputs": [
    {
     "data": {
      "text/plain": [
       "0    1\n",
       "1    0\n",
       "2    1\n",
       "3    4\n",
       "4    0\n",
       "Name: label, dtype: int64"
      ]
     },
     "execution_count": 8,
     "metadata": {},
     "output_type": "execute_result"
    }
   ],
   "source": [
    "y_train.head()"
   ]
  },
  {
   "cell_type": "code",
   "execution_count": 9,
   "id": "7d6eb7f8",
   "metadata": {
    "execution": {
     "iopub.execute_input": "2022-07-22T04:13:02.894706Z",
     "iopub.status.busy": "2022-07-22T04:13:02.894365Z",
     "iopub.status.idle": "2022-07-22T04:13:26.321850Z",
     "shell.execute_reply": "2022-07-22T04:13:26.320538Z"
    },
    "papermill": {
     "duration": 23.437827,
     "end_time": "2022-07-22T04:13:26.324692",
     "exception": false,
     "start_time": "2022-07-22T04:13:02.886865",
     "status": "completed"
    },
    "tags": []
   },
   "outputs": [
    {
     "name": "stderr",
     "output_type": "stream",
     "text": [
      "2022-07-22 04:13:04.063595: I tensorflow/stream_executor/cuda/cuda_gpu_executor.cc:937] successful NUMA node read from SysFS had negative value (-1), but there must be at least one NUMA node, so returning NUMA node zero\n",
      "2022-07-22 04:13:04.253475: I tensorflow/stream_executor/cuda/cuda_gpu_executor.cc:937] successful NUMA node read from SysFS had negative value (-1), but there must be at least one NUMA node, so returning NUMA node zero\n",
      "2022-07-22 04:13:04.254630: I tensorflow/stream_executor/cuda/cuda_gpu_executor.cc:937] successful NUMA node read from SysFS had negative value (-1), but there must be at least one NUMA node, so returning NUMA node zero\n",
      "2022-07-22 04:13:04.256757: I tensorflow/core/platform/cpu_feature_guard.cc:142] This TensorFlow binary is optimized with oneAPI Deep Neural Network Library (oneDNN) to use the following CPU instructions in performance-critical operations:  AVX2 FMA\n",
      "To enable them in other operations, rebuild TensorFlow with the appropriate compiler flags.\n",
      "2022-07-22 04:13:04.257170: I tensorflow/stream_executor/cuda/cuda_gpu_executor.cc:937] successful NUMA node read from SysFS had negative value (-1), but there must be at least one NUMA node, so returning NUMA node zero\n",
      "2022-07-22 04:13:04.258457: I tensorflow/stream_executor/cuda/cuda_gpu_executor.cc:937] successful NUMA node read from SysFS had negative value (-1), but there must be at least one NUMA node, so returning NUMA node zero\n",
      "2022-07-22 04:13:04.259739: I tensorflow/stream_executor/cuda/cuda_gpu_executor.cc:937] successful NUMA node read from SysFS had negative value (-1), but there must be at least one NUMA node, so returning NUMA node zero\n",
      "2022-07-22 04:13:06.826865: I tensorflow/stream_executor/cuda/cuda_gpu_executor.cc:937] successful NUMA node read from SysFS had negative value (-1), but there must be at least one NUMA node, so returning NUMA node zero\n",
      "2022-07-22 04:13:06.828033: I tensorflow/stream_executor/cuda/cuda_gpu_executor.cc:937] successful NUMA node read from SysFS had negative value (-1), but there must be at least one NUMA node, so returning NUMA node zero\n",
      "2022-07-22 04:13:06.829024: I tensorflow/stream_executor/cuda/cuda_gpu_executor.cc:937] successful NUMA node read from SysFS had negative value (-1), but there must be at least one NUMA node, so returning NUMA node zero\n",
      "2022-07-22 04:13:06.829860: I tensorflow/core/common_runtime/gpu/gpu_device.cc:1510] Created device /job:localhost/replica:0/task:0/device:GPU:0 with 15403 MB memory:  -> device: 0, name: Tesla P100-PCIE-16GB, pci bus id: 0000:00:04.0, compute capability: 6.0\n",
      "2022-07-22 04:13:08.089372: I tensorflow/compiler/mlir/mlir_graph_optimization_pass.cc:185] None of the MLIR Optimization Passes are enabled (registered 2)\n"
     ]
    },
    {
     "name": "stdout",
     "output_type": "stream",
     "text": [
      "Epoch 1/5\n",
      "1313/1313 [==============================] - 6s 3ms/step - loss: 10.7414 - accuracy: 0.8323\n",
      "Epoch 2/5\n",
      "1313/1313 [==============================] - 3s 2ms/step - loss: 6.2854 - accuracy: 0.8776\n",
      "Epoch 3/5\n",
      "1313/1313 [==============================] - 3s 2ms/step - loss: 5.6214 - accuracy: 0.8852\n",
      "Epoch 4/5\n",
      "1313/1313 [==============================] - 3s 3ms/step - loss: 5.4536 - accuracy: 0.8884\n",
      "Epoch 5/5\n",
      "1313/1313 [==============================] - 3s 2ms/step - loss: 5.3257 - accuracy: 0.8906\n"
     ]
    },
    {
     "data": {
      "text/plain": [
       "<keras.callbacks.History at 0x7f52277e8d50>"
      ]
     },
     "execution_count": 9,
     "metadata": {},
     "output_type": "execute_result"
    }
   ],
   "source": [
    "model =  keras.Sequential([\n",
    "                  keras.layers.Dense(10,input_shape=(784,),activation='sigmoid')\n",
    "])\n",
    "\n",
    "model.compile(\n",
    "    optimizer='adam',\n",
    "    loss='sparse_categorical_crossentropy',\n",
    "    metrics=['accuracy']\n",
    ")\n",
    "\n",
    "model.fit(X_train,y_train,epochs=5)"
   ]
  },
  {
   "cell_type": "code",
   "execution_count": 10,
   "id": "1f06fe17",
   "metadata": {
    "execution": {
     "iopub.execute_input": "2022-07-22T04:13:26.388171Z",
     "iopub.status.busy": "2022-07-22T04:13:26.387801Z",
     "iopub.status.idle": "2022-07-22T04:13:28.155911Z",
     "shell.execute_reply": "2022-07-22T04:13:28.154506Z"
    },
    "papermill": {
     "duration": 1.803928,
     "end_time": "2022-07-22T04:13:28.158744",
     "exception": false,
     "start_time": "2022-07-22T04:13:26.354816",
     "status": "completed"
    },
    "tags": []
   },
   "outputs": [
    {
     "data": {
      "text/plain": [
       "array([1.        , 0.        , 1.        , 1.        , 0.67232156,\n",
       "       1.        , 0.        , 0.        , 1.        , 1.        ],\n",
       "      dtype=float32)"
      ]
     },
     "execution_count": 10,
     "metadata": {},
     "output_type": "execute_result"
    }
   ],
   "source": [
    "y_pred_val = model.predict(X_test)\n",
    "y_pred_val[10]"
   ]
  },
  {
   "cell_type": "code",
   "execution_count": 11,
   "id": "0896af71",
   "metadata": {
    "execution": {
     "iopub.execute_input": "2022-07-22T04:13:28.220229Z",
     "iopub.status.busy": "2022-07-22T04:13:28.219846Z",
     "iopub.status.idle": "2022-07-22T04:13:28.229484Z",
     "shell.execute_reply": "2022-07-22T04:13:28.228134Z"
    },
    "papermill": {
     "duration": 0.043438,
     "end_time": "2022-07-22T04:13:28.232203",
     "exception": false,
     "start_time": "2022-07-22T04:13:28.188765",
     "status": "completed"
    },
    "tags": []
   },
   "outputs": [
    {
     "data": {
      "text/plain": [
       "0"
      ]
     },
     "execution_count": 11,
     "metadata": {},
     "output_type": "execute_result"
    }
   ],
   "source": [
    "np.argmax(y_pred_val[10])"
   ]
  },
  {
   "cell_type": "code",
   "execution_count": 12,
   "id": "97977177",
   "metadata": {
    "execution": {
     "iopub.execute_input": "2022-07-22T04:13:28.295755Z",
     "iopub.status.busy": "2022-07-22T04:13:28.295100Z",
     "iopub.status.idle": "2022-07-22T04:13:28.379158Z",
     "shell.execute_reply": "2022-07-22T04:13:28.377828Z"
    },
    "papermill": {
     "duration": 0.119265,
     "end_time": "2022-07-22T04:13:28.382151",
     "exception": false,
     "start_time": "2022-07-22T04:13:28.262886",
     "status": "completed"
    },
    "tags": []
   },
   "outputs": [
    {
     "data": {
      "text/plain": [
       "0"
      ]
     },
     "execution_count": 12,
     "metadata": {},
     "output_type": "execute_result"
    }
   ],
   "source": [
    "y_pred=[np.argmax(i) for i in y_pred_val]\n",
    "y_pred[0]"
   ]
  },
  {
   "cell_type": "code",
   "execution_count": 13,
   "id": "2580aca3",
   "metadata": {
    "execution": {
     "iopub.execute_input": "2022-07-22T04:13:28.444845Z",
     "iopub.status.busy": "2022-07-22T04:13:28.444344Z",
     "iopub.status.idle": "2022-07-22T04:13:28.452285Z",
     "shell.execute_reply": "2022-07-22T04:13:28.450907Z"
    },
    "papermill": {
     "duration": 0.041812,
     "end_time": "2022-07-22T04:13:28.455331",
     "exception": false,
     "start_time": "2022-07-22T04:13:28.413519",
     "status": "completed"
    },
    "tags": []
   },
   "outputs": [
    {
     "data": {
      "text/plain": [
       "28000"
      ]
     },
     "execution_count": 13,
     "metadata": {},
     "output_type": "execute_result"
    }
   ],
   "source": [
    "len(y_pred)"
   ]
  },
  {
   "cell_type": "code",
   "execution_count": 14,
   "id": "0499fd09",
   "metadata": {
    "execution": {
     "iopub.execute_input": "2022-07-22T04:13:28.518365Z",
     "iopub.status.busy": "2022-07-22T04:13:28.517976Z",
     "iopub.status.idle": "2022-07-22T04:13:28.528398Z",
     "shell.execute_reply": "2022-07-22T04:13:28.527166Z"
    },
    "papermill": {
     "duration": 0.045413,
     "end_time": "2022-07-22T04:13:28.530822",
     "exception": false,
     "start_time": "2022-07-22T04:13:28.485409",
     "status": "completed"
    },
    "tags": []
   },
   "outputs": [
    {
     "data": {
      "text/plain": [
       "(28000,)"
      ]
     },
     "execution_count": 14,
     "metadata": {},
     "output_type": "execute_result"
    }
   ],
   "source": [
    "image_id = pd.Series(range(1,28001),name='ImageId')\n",
    "image_id.isnull().sum()\n",
    "image_id.shape"
   ]
  },
  {
   "cell_type": "code",
   "execution_count": 15,
   "id": "33c6a148",
   "metadata": {
    "execution": {
     "iopub.execute_input": "2022-07-22T04:13:28.593534Z",
     "iopub.status.busy": "2022-07-22T04:13:28.592484Z",
     "iopub.status.idle": "2022-07-22T04:13:28.620158Z",
     "shell.execute_reply": "2022-07-22T04:13:28.618683Z"
    },
    "papermill": {
     "duration": 0.062664,
     "end_time": "2022-07-22T04:13:28.623632",
     "exception": false,
     "start_time": "2022-07-22T04:13:28.560968",
     "status": "completed"
    },
    "tags": []
   },
   "outputs": [
    {
     "data": {
      "text/plain": [
       "0    0\n",
       "1    0\n",
       "2    3\n",
       "3    0\n",
       "4    2\n",
       "Name: Label, dtype: int64"
      ]
     },
     "execution_count": 15,
     "metadata": {},
     "output_type": "execute_result"
    }
   ],
   "source": [
    "y_pred = pd.Series(y_pred,name='Label')\n",
    "y_pred.head()"
   ]
  },
  {
   "cell_type": "code",
   "execution_count": 16,
   "id": "fcf44555",
   "metadata": {
    "execution": {
     "iopub.execute_input": "2022-07-22T04:13:28.687163Z",
     "iopub.status.busy": "2022-07-22T04:13:28.686823Z",
     "iopub.status.idle": "2022-07-22T04:13:28.700823Z",
     "shell.execute_reply": "2022-07-22T04:13:28.699594Z"
    },
    "papermill": {
     "duration": 0.048252,
     "end_time": "2022-07-22T04:13:28.703414",
     "exception": false,
     "start_time": "2022-07-22T04:13:28.655162",
     "status": "completed"
    },
    "tags": []
   },
   "outputs": [
    {
     "data": {
      "text/html": [
       "<div>\n",
       "<style scoped>\n",
       "    .dataframe tbody tr th:only-of-type {\n",
       "        vertical-align: middle;\n",
       "    }\n",
       "\n",
       "    .dataframe tbody tr th {\n",
       "        vertical-align: top;\n",
       "    }\n",
       "\n",
       "    .dataframe thead th {\n",
       "        text-align: right;\n",
       "    }\n",
       "</style>\n",
       "<table border=\"1\" class=\"dataframe\">\n",
       "  <thead>\n",
       "    <tr style=\"text-align: right;\">\n",
       "      <th></th>\n",
       "      <th>ImageId</th>\n",
       "      <th>Label</th>\n",
       "    </tr>\n",
       "  </thead>\n",
       "  <tbody>\n",
       "    <tr>\n",
       "      <th>0</th>\n",
       "      <td>1</td>\n",
       "      <td>0</td>\n",
       "    </tr>\n",
       "    <tr>\n",
       "      <th>1</th>\n",
       "      <td>2</td>\n",
       "      <td>0</td>\n",
       "    </tr>\n",
       "    <tr>\n",
       "      <th>2</th>\n",
       "      <td>3</td>\n",
       "      <td>3</td>\n",
       "    </tr>\n",
       "    <tr>\n",
       "      <th>3</th>\n",
       "      <td>4</td>\n",
       "      <td>0</td>\n",
       "    </tr>\n",
       "    <tr>\n",
       "      <th>4</th>\n",
       "      <td>5</td>\n",
       "      <td>2</td>\n",
       "    </tr>\n",
       "  </tbody>\n",
       "</table>\n",
       "</div>"
      ],
      "text/plain": [
       "   ImageId  Label\n",
       "0        1      0\n",
       "1        2      0\n",
       "2        3      3\n",
       "3        4      0\n",
       "4        5      2"
      ]
     },
     "execution_count": 16,
     "metadata": {},
     "output_type": "execute_result"
    }
   ],
   "source": [
    "y_pred = pd.concat([image_id,y_pred],axis=1)\n",
    "y_pred.head()"
   ]
  },
  {
   "cell_type": "code",
   "execution_count": 17,
   "id": "4a4c992b",
   "metadata": {
    "execution": {
     "iopub.execute_input": "2022-07-22T04:13:28.766697Z",
     "iopub.status.busy": "2022-07-22T04:13:28.765684Z",
     "iopub.status.idle": "2022-07-22T04:13:28.775837Z",
     "shell.execute_reply": "2022-07-22T04:13:28.774653Z"
    },
    "papermill": {
     "duration": 0.044643,
     "end_time": "2022-07-22T04:13:28.778422",
     "exception": false,
     "start_time": "2022-07-22T04:13:28.733779",
     "status": "completed"
    },
    "tags": []
   },
   "outputs": [
    {
     "data": {
      "text/plain": [
       "ImageId    0\n",
       "Label      0\n",
       "dtype: int64"
      ]
     },
     "execution_count": 17,
     "metadata": {},
     "output_type": "execute_result"
    }
   ],
   "source": [
    "y_pred.isnull().sum()"
   ]
  },
  {
   "cell_type": "code",
   "execution_count": 18,
   "id": "e130da83",
   "metadata": {
    "execution": {
     "iopub.execute_input": "2022-07-22T04:13:28.841607Z",
     "iopub.status.busy": "2022-07-22T04:13:28.841284Z",
     "iopub.status.idle": "2022-07-22T04:13:28.892773Z",
     "shell.execute_reply": "2022-07-22T04:13:28.891639Z"
    },
    "papermill": {
     "duration": 0.086111,
     "end_time": "2022-07-22T04:13:28.895371",
     "exception": false,
     "start_time": "2022-07-22T04:13:28.809260",
     "status": "completed"
    },
    "tags": []
   },
   "outputs": [],
   "source": [
    "y_pred.to_csv('submission.csv',index=False)"
   ]
  },
  {
   "cell_type": "code",
   "execution_count": null,
   "id": "adb8e1fa",
   "metadata": {
    "papermill": {
     "duration": 0.029801,
     "end_time": "2022-07-22T04:13:28.956621",
     "exception": false,
     "start_time": "2022-07-22T04:13:28.926820",
     "status": "completed"
    },
    "tags": []
   },
   "outputs": [],
   "source": []
  }
 ],
 "metadata": {
  "kernelspec": {
   "display_name": "Python 3",
   "language": "python",
   "name": "python3"
  },
  "language_info": {
   "codemirror_mode": {
    "name": "ipython",
    "version": 3
   },
   "file_extension": ".py",
   "mimetype": "text/x-python",
   "name": "python",
   "nbconvert_exporter": "python",
   "pygments_lexer": "ipython3",
   "version": "3.7.12"
  },
  "papermill": {
   "default_parameters": {},
   "duration": 51.726744,
   "end_time": "2022-07-22T04:13:31.827485",
   "environment_variables": {},
   "exception": null,
   "input_path": "__notebook__.ipynb",
   "output_path": "__notebook__.ipynb",
   "parameters": {},
   "start_time": "2022-07-22T04:12:40.100741",
   "version": "2.3.4"
  }
 },
 "nbformat": 4,
 "nbformat_minor": 5
}
